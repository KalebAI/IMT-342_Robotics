{
 "cells": [
  {
   "cell_type": "markdown",
   "id": "d1406aa8",
   "metadata": {},
   "source": [
    "# Transformadas espaciales con Robotics Toolbox (Python)\n",
    "Este cuaderno resume rotaciones SO(3), transformaciones homogéneas SE(3), composición, inversa y aplicación a puntos utilizando `spatialmath` y `roboticstoolbox`."
   ]
  },
  {
   "cell_type": "code",
   "execution_count": null,
   "id": "37adf5e2",
   "metadata": {},
   "outputs": [],
   "source": [
    "import numpy as np\n",
    "import spatialmath as sm\n",
    "import roboticstoolbox as rtb\n",
    "print('spatialmath', sm.__version__)\n",
    "print('roboticstoolbox', rtb.__version__)"
   ]
  },
  {
   "cell_type": "markdown",
   "id": "1561fadc",
   "metadata": {},
   "source": [
    "## 1. Rotaciones en SO(3)\n",
    "Creamos rotaciones elementales alrededor de **x**, **y**, **z** y verificamos propiedades."
   ]
  },
  {
   "cell_type": "code",
   "execution_count": null,
   "id": "5f3b5457",
   "metadata": {},
   "outputs": [],
   "source": [
    "Rx = sm.SO3.Rx(np.deg2rad(30))  # 30° sobre x\n",
    "Ry = sm.SO3.Ry(np.deg2rad(45))  # 45° sobre y\n",
    "Rz = sm.SO3.Rz(np.deg2rad(60))  # 60° sobre z\n",
    "R = Rz * Ry * Rx  # composición (aplica a derecha)\n",
    "print('R\\n', R.A)\n",
    "print('Determinante:', np.linalg.det(R.A))"
   ]
  },
  {
   "cell_type": "markdown",
   "id": "1e0f8dc2",
   "metadata": {},
   "source": [
    "## 2. Transformaciones homogéneas en SE(3)\n",
    "Agregamos traslaciones y componemos marcos."
   ]
  },
  {
   "cell_type": "code",
   "execution_count": null,
   "id": "dbed6a9a",
   "metadata": {},
   "outputs": [],
   "source": [
    "T1 = sm.SE3(0.5, 0.0, 0.2) * sm.SE3.Rz(np.deg2rad(45))\n",
    "T2 = sm.SE3(0.0, 0.3, 0.0) * sm.SE3.Rx(np.deg2rad(-30))\n",
    "TAB = T1  # A->B\n",
    "TBC = T2  # B->C\n",
    "TAC = TAB * TBC  # A->C\n",
    "print('TAB =\\n', TAB.A)\n",
    "print('TBC =\\n', TBC.A)\n",
    "print('TAC = TAB*TBC =\\n', TAC.A)"
   ]
  },
  {
   "cell_type": "markdown",
   "id": "9bf2745b",
   "metadata": {},
   "source": [
    "## 3. Aplicación de transformaciones a puntos\n",
    "Aplicamos `T` a un conjunto de puntos y verificamos la inversa."
   ]
  },
  {
   "cell_type": "code",
   "execution_count": null,
   "id": "e2333433",
   "metadata": {},
   "outputs": [],
   "source": [
    "P = np.array([[0.1, 0.0, 0.0],\n",
    "              [0.0, 0.1, 0.0],\n",
    "              [0.0, 0.0, 0.1]]).T  # 3x3, columnas= puntos\n",
    "Q = TAC * P  # aplica a cada columna\n",
    "Pinv = TAC.inv() * Q\n",
    "print('P original =\\n', P)\n",
    "print('Q = T*P =\\n', Q)\n",
    "print('T^{-1}*Q (debe ~P) =\\n', Pinv)"
   ]
  },
  {
   "cell_type": "markdown",
   "id": "1b9f71d0",
   "metadata": {},
   "source": [
    "## 4. RPY / Euler y equivalencias\n",
    "Convertimos entre representaciones."
   ]
  },
  {
   "cell_type": "code",
   "execution_count": null,
   "id": "6b24ec4d",
   "metadata": {},
   "outputs": [],
   "source": [
    "R = sm.SO3.RPY([10, 20, 30], unit='deg', order='zyx')\n",
    "rpy = R.rpy(order='zyx', unit='deg')\n",
    "angax = R.angvec()\n",
    "print('R (RPY zyx=10,20,30) =\\n', R.A)\n",
    "print('RPY recuperado (deg) =', rpy)\n",
    "print('Ángulo-eje =', angax)"
   ]
  },
  {
   "cell_type": "markdown",
   "id": "346c86ba",
   "metadata": {},
   "source": [
    "## 5. Demostración con un manipulador de RTB\n",
    "Obtenemos un modelo y mostramos su pose de herramienta tras aplicar una configuración."
   ]
  },
  {
   "cell_type": "code",
   "execution_count": null,
   "id": "f2501ee2",
   "metadata": {},
   "outputs": [],
   "source": [
    "puma = rtb.models.DH.Puma560()\n",
    "q = np.deg2rad([0, -45, 30, 0, 45, 0])\n",
    "T = puma.fkine(q)\n",
    "print(puma)\n",
    "print('Tee =\\n', T.A)"
   ]
  },
  {
   "cell_type": "markdown",
   "id": "e6b72600",
   "metadata": {},
   "source": [
    "## 6. (Opcional) Visualización rápida\n",
    "Si ejecutas en un entorno con interfaz gráfica, puedes visualizar con Swift:\n",
    "```python\n",
    "env = rtb.backends.Swift()\n",
    "env.launch()\n",
    "env.add(puma)\n",
    "puma.q = q\n",
    "```\n",
    "_Cierra la ventana para continuar._"
   ]
  }
 ],
 "metadata": {},
 "nbformat": 4,
 "nbformat_minor": 5
}
